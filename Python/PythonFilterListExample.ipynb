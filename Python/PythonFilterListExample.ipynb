{
 "cells": [
  {
   "cell_type": "code",
   "execution_count": 82,
   "metadata": {
    "collapsed": false
   },
   "outputs": [
    {
     "name": "stdout",
     "output_type": "stream",
     "text": [
      "1\n",
      "fip@asldkjf.in\n"
     ]
    }
   ],
   "source": [
    "count = int(raw_input())\n",
    "valid = list()\n",
    "email = []\n",
    "for x in range(count):\n",
    "    email.append(raw_input())\n",
    "valid = list(filter(lambda s: re.match(\"[\\w-]+@[\\w]+\\.[a-zA-Z0-9]{0,3}$\", s), email))\n",
    "    "
   ]
  },
  {
   "cell_type": "code",
   "execution_count": 91,
   "metadata": {
    "collapsed": false
   },
   "outputs": [],
   "source": [
    "emails = ['its@gmail.com1',\n",
    "'mike13445@yahoomail9.server',\n",
    "'rase23@ha_ch.com',\n",
    "'daniyal@gmail.coma',\n",
    "'thatisit@thatisit']"
   ]
  },
  {
   "cell_type": "code",
   "execution_count": 94,
   "metadata": {
    "collapsed": true
   },
   "outputs": [],
   "source": [
    "valid = list(filter(lambda s: re.match(\"[\\w-]+@[a-zA-Z0-9]+\\.[a-zA-Z0-9]{0,3}$\", s), emails))"
   ]
  }
 ],
 "metadata": {
  "kernelspec": {
   "display_name": "Python 2",
   "language": "python",
   "name": "python2"
  },
  "language_info": {
   "codemirror_mode": {
    "name": "ipython",
    "version": 2
   },
   "file_extension": ".py",
   "mimetype": "text/x-python",
   "name": "python",
   "nbconvert_exporter": "python",
   "pygments_lexer": "ipython2",
   "version": "2.7.12"
  }
 },
 "nbformat": 4,
 "nbformat_minor": 1
}
