{
 "cells": [
  {
   "cell_type": "code",
   "execution_count": 49,
   "metadata": {
    "collapsed": false
   },
   "outputs": [],
   "source": [
    "def look_and_say(n): \n",
    "    \"\"\"\n",
    "    Print the nth sequence of the look and say problem \n",
    "    Parameters\n",
    "    ----------\n",
    "    n : int\n",
    "    \n",
    "    1,11,21,1211,111221, ... \n",
    "    First two items are fixed and the rest can be genereated off the n-1 solution\n",
    "    \"\"\"\n",
    "    if n == 1:\n",
    "        return '1'\n",
    "    if n == 2:\n",
    "        return '11'\n",
    "    else:\n",
    "        s = list('11')\n",
    "        for i in xrange(n-2):\n",
    "#             print \"Iter: \" + str(i) + \" of \" + str(n-2)\n",
    "            output = ''\n",
    "            count = 1\n",
    "            x = 1\n",
    "            while (x < len(s)):\n",
    "                if s[x-1] == s[x]:\n",
    "                    count+=1\n",
    "                    x+=1\n",
    "                else:\n",
    "                    output += str(count) + str(s[x-1])\n",
    "                    x+=1\n",
    "                    count = 1\n",
    "            output += str(count) + str(s[x-1])\n",
    "            s = list(output)\n",
    "\n",
    "    return output\n",
    "        "
   ]
  },
  {
   "cell_type": "code",
   "execution_count": 50,
   "metadata": {
    "collapsed": false
   },
   "outputs": [
    {
     "data": {
      "text/plain": [
       "'11'"
      ]
     },
     "execution_count": 50,
     "metadata": {},
     "output_type": "execute_result"
    }
   ],
   "source": [
    "say(2)"
   ]
  },
  {
   "cell_type": "code",
   "execution_count": 51,
   "metadata": {
    "collapsed": false
   },
   "outputs": [
    {
     "name": "stdout",
     "output_type": "stream",
     "text": [
      "Iter: 0 of 1\n",
      "Output: 21\n"
     ]
    },
    {
     "data": {
      "text/plain": [
       "'21'"
      ]
     },
     "execution_count": 51,
     "metadata": {},
     "output_type": "execute_result"
    }
   ],
   "source": [
    "say(3)"
   ]
  },
  {
   "cell_type": "code",
   "execution_count": 52,
   "metadata": {
    "collapsed": false
   },
   "outputs": [
    {
     "name": "stdout",
     "output_type": "stream",
     "text": [
      "Iter: 0 of 4\n",
      "Output: 21\n",
      "Iter: 1 of 4\n",
      "Output: 1211\n",
      "Iter: 2 of 4\n",
      "Output: 111221\n",
      "Iter: 3 of 4\n",
      "Output: 312211\n"
     ]
    },
    {
     "data": {
      "text/plain": [
       "'312211'"
      ]
     },
     "execution_count": 52,
     "metadata": {},
     "output_type": "execute_result"
    }
   ],
   "source": [
    "say(6)"
   ]
  },
  {
   "cell_type": "code",
   "execution_count": 53,
   "metadata": {
    "collapsed": false
   },
   "outputs": [
    {
     "data": {
      "text/plain": [
       "'312211'"
      ]
     },
     "execution_count": 53,
     "metadata": {},
     "output_type": "execute_result"
    }
   ],
   "source": [
    "look_and_say(6)"
   ]
  },
  {
   "cell_type": "code",
   "execution_count": null,
   "metadata": {
    "collapsed": true
   },
   "outputs": [],
   "source": []
  }
 ],
 "metadata": {
  "kernelspec": {
   "display_name": "Python 2",
   "language": "python",
   "name": "python2"
  },
  "language_info": {
   "codemirror_mode": {
    "name": "ipython",
    "version": 2
   },
   "file_extension": ".py",
   "mimetype": "text/x-python",
   "name": "python",
   "nbconvert_exporter": "python",
   "pygments_lexer": "ipython2",
   "version": "2.7.8"
  }
 },
 "nbformat": 4,
 "nbformat_minor": 0
}
